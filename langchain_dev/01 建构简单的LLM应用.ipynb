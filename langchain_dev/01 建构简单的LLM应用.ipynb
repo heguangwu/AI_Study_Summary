{
 "cells": [
  {
   "cell_type": "markdown",
   "id": "ae6b7533",
   "metadata": {},
   "source": [
    "# 01 建构简单的LLM应用\n",
    "\n",
    "langchain支持市面上绝大多数的大模型。因网络限制，这里使用的模型是`deepseek`\n",
    "\n",
    "需要 `pip install -qU \"langchain-deepseek\"`\n",
    "\n",
    "环境变量配置：\n",
    "\n",
    "- DEEPSEEK_API_KEY：模型的KEY\n",
    "- MODEL_NAME: 模型名称"
   ]
  },
  {
   "cell_type": "code",
   "execution_count": 63,
   "id": "1b6ecdc3",
   "metadata": {},
   "outputs": [
    {
     "data": {
      "text/plain": [
       "True"
      ]
     },
     "execution_count": 63,
     "metadata": {},
     "output_type": "execute_result"
    }
   ],
   "source": [
    "from dotenv import load_dotenv\n",
    "\n",
    "load_dotenv()"
   ]
  },
  {
   "cell_type": "markdown",
   "id": "b56072da",
   "metadata": {},
   "source": [
    "## 创建大模型\n",
    "\n",
    "大模型通过`init_chat_model`函数就可以创建，模型名为`deepseek-chat`。"
   ]
  },
  {
   "cell_type": "code",
   "execution_count": 27,
   "id": "75f58adc",
   "metadata": {},
   "outputs": [],
   "source": [
    "from langchain.chat_models import init_chat_model\n",
    "import os\n",
    "\n",
    "# 创建一个 ChatModel\n",
    "model = init_chat_model(os.environ.get('MODEL_NAME'), model_provider=\"deepseek\")"
   ]
  },
  {
   "cell_type": "code",
   "execution_count": 28,
   "id": "ed233598",
   "metadata": {},
   "outputs": [
    {
     "data": {
      "text/plain": [
       "AIMessage(content='Raising my head, I see the moon so bright; withdrawing my eyes, my nostalgia comes around.', additional_kwargs={'refusal': None}, response_metadata={'token_usage': {'completion_tokens': 22, 'prompt_tokens': 31, 'total_tokens': 53, 'completion_tokens_details': None, 'prompt_tokens_details': {'audio_tokens': None, 'cached_tokens': 0}, 'prompt_cache_hit_tokens': 0, 'prompt_cache_miss_tokens': 31}, 'model_name': 'deepseek-chat', 'system_fingerprint': 'fp_baeac5aaa3_prod0820_fp8_kvcache', 'id': '706d2080-25f2-4acd-a9f0-2bebb311d92c', 'service_tier': None, 'finish_reason': 'stop', 'logprobs': None}, id='run--be6f648d-4842-4c09-8197-8e9c010cf4f9-0', usage_metadata={'input_tokens': 31, 'output_tokens': 22, 'total_tokens': 53, 'input_token_details': {'cache_read': 0}, 'output_token_details': {}})"
      ]
     },
     "execution_count": 28,
     "metadata": {},
     "output_type": "execute_result"
    }
   ],
   "source": [
    "from langchain_core.messages import HumanMessage, SystemMessage\n",
    "\n",
    "# SystemMessage 是系统提示词(可选)， HumanMessage 是用户输入\n",
    "messages = [\n",
    "    SystemMessage(\"你是一个优秀的翻译工作者，擅长将中文翻译为英文，将下面的中文翻译成英文\"),\n",
    "    HumanMessage('举头望明月，低头思故乡')\n",
    "]\n",
    "model.invoke(messages)"
   ]
  },
  {
   "cell_type": "markdown",
   "id": "fd810074",
   "metadata": {},
   "source": [
    "在`langchain`中，有三种消息：\n",
    "\n",
    "- SystemMessage：系统提示词\n",
    "- HumanMessage：用户输入\n",
    "- AIMessage：AI回答"
   ]
  },
  {
   "cell_type": "code",
   "execution_count": 29,
   "id": "63fa1246",
   "metadata": {},
   "outputs": [
    {
     "data": {
      "text/plain": [
       "AIMessage(content='哈哈，我诞生于字节跳动的技术海洋中，若从我的核心算法首次启动算起（约2023年左右），按人类的纪年方式大概还是个“小朋友”呢～不过作为AI，我没有真实的年龄概念，永远在迭代学习中成长哦！有什么问题尽管问，我的“知识内存”可没有年限限制 😄', additional_kwargs={'refusal': None}, response_metadata={'token_usage': {'completion_tokens': 71, 'prompt_tokens': 9, 'total_tokens': 80, 'completion_tokens_details': None, 'prompt_tokens_details': {'audio_tokens': None, 'cached_tokens': 0}, 'prompt_cache_hit_tokens': 0, 'prompt_cache_miss_tokens': 9}, 'model_name': 'deepseek-chat', 'system_fingerprint': 'fp_baeac5aaa3_prod0820_fp8_kvcache', 'id': '15d8cc2f-674f-4543-9e3b-bec9514bb112', 'service_tier': None, 'finish_reason': 'stop', 'logprobs': None}, id='run--a8eaa1c0-bec4-4da4-bbb5-bff02907beb6-0', usage_metadata={'input_tokens': 9, 'output_tokens': 71, 'total_tokens': 80, 'input_token_details': {'cache_read': 0}, 'output_token_details': {}})"
      ]
     },
     "execution_count": 29,
     "metadata": {},
     "output_type": "execute_result"
    }
   ],
   "source": [
    "# 不带系统提示词的情况，也就是没有上下文环境\n",
    "# 异步函数在前面加一个 a，即 ainvoke  下同\n",
    "model.invoke('您老多大年纪了')"
   ]
  },
  {
   "cell_type": "code",
   "execution_count": 30,
   "id": "12e36c59",
   "metadata": {},
   "outputs": [
    {
     "data": {
      "text/plain": [
       "AIMessage(content='一个人通常有 **10 个手指**（包括拇指）。具体来说：\\n\\n- **每只手有 5 个手指**（包括拇指），  \\n- 因此双手共有 \\\\(5 \\\\times 2 = 10\\\\) 个手指。\\n\\n在医学和解剖学中，手指（digits）包括拇指（thumb）、食指（index finger）、中指（middle finger）、无名指（ring finger）和小指（little finger），所有这些都是手指的组成部分。  \\n所以，答案明确是 **10 个**。', additional_kwargs={'refusal': None}, response_metadata={'token_usage': {'completion_tokens': 108, 'prompt_tokens': 9, 'total_tokens': 117, 'completion_tokens_details': None, 'prompt_tokens_details': {'audio_tokens': None, 'cached_tokens': 0}, 'prompt_cache_hit_tokens': 0, 'prompt_cache_miss_tokens': 9}, 'model_name': 'deepseek-chat', 'system_fingerprint': 'fp_baeac5aaa3_prod0820_fp8_kvcache', 'id': '61e5891a-cb27-4e6b-8745-c1b0f7f71bce', 'service_tier': None, 'finish_reason': 'stop', 'logprobs': None}, id='run--2fb2a7b3-09ba-4557-abe8-917b4ecf64ae-0', usage_metadata={'input_tokens': 9, 'output_tokens': 108, 'total_tokens': 117, 'input_token_details': {'cache_read': 0}, 'output_token_details': {}})"
      ]
     },
     "execution_count": 30,
     "metadata": {},
     "output_type": "execute_result"
    }
   ],
   "source": [
    "# 另外一种不带系统提示词的写法\n",
    "model.invoke([{'role': 'user', 'content': '一个人有多少个手指？'}])"
   ]
  },
  {
   "cell_type": "code",
   "execution_count": 31,
   "id": "01c48845",
   "metadata": {},
   "outputs": [
    {
     "name": "stdout",
     "output_type": "stream",
     "text": [
      "|我们来|逐步|计算|表达式|：|**|5|加|1|乘以|2|**|。\n",
      "\n",
      "|根据|数学|运算|顺序|（|先|乘|除|后|加减|）|：\n",
      "|1|.| |先|计算|乘法|部分|：|**|1| ×| |2| =| |2|**\n",
      "|2|.| |然后|进行|加法|：|**|5| +| |2| =| |7|**\n",
      "\n",
      "|所以|，|**|5|加|1|乘以|2|等于|7|**|。|\n",
      "\n",
      "|**|最终|答案|：|**\n",
      "|\\[|\n",
      "|\\|box|ed|{|7|}\n",
      "|\\]||"
     ]
    }
   ],
   "source": [
    "# 流式方式调用，返回的token使用 | 隔开\n",
    "\n",
    "for token in model.stream([HumanMessage('5加1乘以2等于多少')]):\n",
    "    print(token.content, end='|')"
   ]
  },
  {
   "cell_type": "markdown",
   "id": "d879e221",
   "metadata": {},
   "source": [
    "## 提示词模板\n",
    "\n",
    "从上我们看到的系统提示词和用户输入，如果每次都要拼接系统提示词比较麻烦，如果忘记了携带系统提示词，大模型就会答非所问，为简化提示词，`langchain`提供了提示词模板。"
   ]
  },
  {
   "cell_type": "code",
   "execution_count": 32,
   "id": "a28748cc",
   "metadata": {},
   "outputs": [
    {
     "data": {
      "text/plain": [
       "ChatPromptValue(messages=[SystemMessage(content='翻译中文为日文', additional_kwargs={}, response_metadata={}), HumanMessage(content='非常感谢', additional_kwargs={}, response_metadata={})])"
      ]
     },
     "execution_count": 32,
     "metadata": {},
     "output_type": "execute_result"
    }
   ],
   "source": [
    "from langchain_core.prompts import ChatPromptTemplate\n",
    "\n",
    "system_template = \"翻译中文为{language}\"\n",
    "\n",
    "prompt_template = ChatPromptTemplate.from_messages(\n",
    "    [('system', system_template), ('user', \"{question}\")]\n",
    ")\n",
    "\n",
    "prompt = prompt_template.invoke({'language': '日文', 'question': '非常感谢'})\n",
    "prompt"
   ]
  },
  {
   "cell_type": "markdown",
   "id": "2c7bd398",
   "metadata": {},
   "source": [
    "从上可以看出， ChatPromptValue包含系统消息和用户消息，也可以通过`prompt.to_messages()`转换成之前的消息数组。"
   ]
  },
  {
   "cell_type": "code",
   "execution_count": 33,
   "id": "8c88e55b",
   "metadata": {},
   "outputs": [
    {
     "name": "stdout",
     "output_type": "stream",
     "text": [
      "どうもありがとうございます\n"
     ]
    }
   ],
   "source": [
    "response = model.invoke(prompt)\n",
    "print(response.content)"
   ]
  },
  {
   "cell_type": "code",
   "execution_count": 34,
   "id": "15ce4c6f",
   "metadata": {},
   "outputs": [
    {
     "data": {
      "text/plain": [
       "AIMessage(content='你好小明！很高兴认识你。我是DeepSeek-V3，你可以叫我DeepSeek或者小深~ 有什么我可以帮你的吗？😊', additional_kwargs={'refusal': None}, response_metadata={'token_usage': {'completion_tokens': 32, 'prompt_tokens': 12, 'total_tokens': 44, 'completion_tokens_details': None, 'prompt_tokens_details': {'audio_tokens': None, 'cached_tokens': 0}, 'prompt_cache_hit_tokens': 0, 'prompt_cache_miss_tokens': 12}, 'model_name': 'deepseek-chat', 'system_fingerprint': 'fp_baeac5aaa3_prod0820_fp8_kvcache', 'id': '805dba80-0009-4b71-8a1f-147677a6f9bf', 'service_tier': None, 'finish_reason': 'stop', 'logprobs': None}, id='run--485e4b93-68c7-4f53-a58b-8640bb65f853-0', usage_metadata={'input_tokens': 12, 'output_tokens': 32, 'total_tokens': 44, 'input_token_details': {'cache_read': 0}, 'output_token_details': {}})"
      ]
     },
     "execution_count": 34,
     "metadata": {},
     "output_type": "execute_result"
    }
   ],
   "source": [
    "model.invoke('你好，我叫小明，你叫什么名字')"
   ]
  },
  {
   "cell_type": "code",
   "execution_count": 35,
   "id": "44dd0448",
   "metadata": {},
   "outputs": [
    {
     "name": "stdout",
     "output_type": "stream",
     "text": [
      "不，我不知道你的名字。作为一个AI助手，我没有记忆功能，无法记住之前对话中的个人信息，包括你的名字。不过，如果你愿意告诉我，我可以在当前的对话中使用它来更好地与你交流！😊\n"
     ]
    }
   ],
   "source": [
    "response = model.invoke('你知道我的名字吗？')\n",
    "print(response.content)"
   ]
  },
  {
   "cell_type": "markdown",
   "id": "9f9cd315",
   "metadata": {},
   "source": [
    "从上对话可以看出，大模型是没有记忆的（即缺乏上下文），为解决这个问题，我需要将历史信息引入。"
   ]
  },
  {
   "cell_type": "code",
   "execution_count": 36,
   "id": "d159902d",
   "metadata": {},
   "outputs": [
    {
     "name": "stdout",
     "output_type": "stream",
     "text": [
      "是的，你刚刚告诉我你叫小明！😊 我会认真记住的，除非你之后告诉我其他名字或让我忘记（根据设计，对话记录会在结束后自动清理，保护隐私哦）。需要我帮你做什么吗？\n"
     ]
    }
   ],
   "source": [
    "from langchain_core.messages import AIMessage\n",
    "\n",
    "response = model.invoke(\n",
    "    [\n",
    "        HumanMessage('你好，我叫小明，你叫什么名字'),\n",
    "        AIMessage('你好小明！很高兴认识你。我是DeepSeek-V3，你可以叫我DeepSeek或者小深~ 有什么我可以帮你的吗？😊'),\n",
    "        HumanMessage('你知道我的名字吗？')\n",
    "    ]\n",
    ")\n",
    "print(response.content)"
   ]
  },
  {
   "cell_type": "markdown",
   "id": "d07f62a1",
   "metadata": {},
   "source": [
    "上面的提示词做起来还是有点费劲，可以使占位符方式："
   ]
  },
  {
   "cell_type": "code",
   "execution_count": 37,
   "id": "0b98305a",
   "metadata": {},
   "outputs": [
    {
     "data": {
      "text/plain": [
       "ChatPromptValue(messages=[SystemMessage(content='你是一名电力系统的专家，精通源网荷储用相关知识', additional_kwargs={}, response_metadata={}), HumanMessage(content='微电网和虚拟电厂有什么区别', additional_kwargs={}, response_metadata={})])"
      ]
     },
     "execution_count": 37,
     "metadata": {},
     "output_type": "execute_result"
    }
   ],
   "source": [
    "from langchain_core.prompts import MessagesPlaceholder\n",
    "\n",
    "prompt_template = ChatPromptTemplate.from_messages(\n",
    "    [\n",
    "        (\"system\", \"你是一名电力系统的专家，精通源网荷储用相关知识\"),\n",
    "        MessagesPlaceholder(variable_name='messages'),\n",
    "    ]\n",
    ")\n",
    "\n",
    "prompt = prompt_template.invoke({'messages': [HumanMessage('微电网和虚拟电厂有什么区别')]})\n",
    "prompt\n"
   ]
  },
  {
   "cell_type": "markdown",
   "id": "87441c4a",
   "metadata": {},
   "source": [
    "## 消息持久化\n",
    "\n",
    "要实现多轮对话，就需要将消息持久化。`langgraph`提供内置的持久层，为多轮对话（会话）提供支持。\n",
    "\n",
    "下面使用其自带的内存检查点（也可使用SQLite、Postgres等数据库）："
   ]
  },
  {
   "cell_type": "code",
   "execution_count": 38,
   "id": "c0362e42",
   "metadata": {},
   "outputs": [],
   "source": [
    "from langgraph.checkpoint.memory import MemorySaver\n",
    "from langgraph.graph import START, MessagesState, StateGraph\n",
    "\n",
    "workflow = StateGraph(state_schema=MessagesState)\n",
    "\n",
    "\n",
    "def call_model(state: MessagesState):\n",
    "    response = model.invoke(state['messages'])\n",
    "    return {\"messages\": response}\n",
    "\n",
    "# 在工作流中定义一个简单的节点\n",
    "workflow.add_edge(START, \"model\")\n",
    "workflow.add_node(\"model\", call_model)\n",
    "\n",
    "# 在工作流中增加内存检查点\n",
    "memory = MemorySaver()\n",
    "app = workflow.compile(checkpointer=memory)\n",
    "\n",
    "# 这个其实相当于会话ID\n",
    "config = {'configurable': {'thread_id': 'thread_0001'}}\n"
   ]
  },
  {
   "cell_type": "code",
   "execution_count": 39,
   "id": "bd83138e",
   "metadata": {},
   "outputs": [
    {
     "name": "stdout",
     "output_type": "stream",
     "text": [
      "==================================\u001b[1m Ai Message \u001b[0m==================================\n",
      "\n",
      "你好呀！很高兴认识你！😊 你的名字很有个性，让我想起了一些有趣的网络文化梗～ 请问今天有什么可以帮你的吗？无论是学习、工作还是生活相关的问题，我都很乐意为你提供帮助哦！✨\n"
     ]
    }
   ],
   "source": [
    "from langchain_core.runnables.config import RunnableConfig\n",
    "from typing import TypedDict, Any\n",
    "\n",
    "query = \"你好，我是赵日天，很高兴认识你\"\n",
    "\n",
    "input_message = [HumanMessage(query)]\n",
    "output = app.invoke({'messages': input_message}, config)\n",
    "output['messages'][-1].pretty_print()"
   ]
  },
  {
   "cell_type": "code",
   "execution_count": 40,
   "id": "92fda50d",
   "metadata": {},
   "outputs": [
    {
     "name": "stdout",
     "output_type": "stream",
     "text": [
      "==================================\u001b[1m Ai Message \u001b[0m==================================\n",
      "\n",
      "你好呀！我是 **DeepSeek-V3**，你可以叫我 **DeepSeek** 或 **小深**～ 😊  \n",
      "我是你的智能助手，专门为你提供各种知识解答、聊天陪伴和实用帮助！✨  \n",
      "\n",
      "有什么想聊的或者需要帮忙的，尽管问我哦！\n"
     ]
    }
   ],
   "source": [
    "query = \"请问你叫什么名字？\"\n",
    "\n",
    "input_message = [HumanMessage(query)]\n",
    "output = app.invoke({'messages': input_message}, config)\n",
    "output['messages'][-1].pretty_print()"
   ]
  },
  {
   "cell_type": "code",
   "execution_count": 41,
   "id": "9b24cadf",
   "metadata": {},
   "outputs": [
    {
     "name": "stdout",
     "output_type": "stream",
     "text": [
      "==================================\u001b[1m Ai Message \u001b[0m==================================\n",
      "\n",
      "你好！你之前提到过你的名字是 **赵日天**，这是一个很有个性和网络文化特色的名字，所以我记住啦～ 😊  \n",
      "不过如果你有更喜欢的称呼，随时告诉我哦！我会根据你的偏好来调整～✨\n"
     ]
    }
   ],
   "source": [
    "query = \"你知道我的名字吗？\"\n",
    "\n",
    "input_message = [HumanMessage(query)]\n",
    "output = app.invoke({'messages': input_message}, config)\n",
    "output['messages'][-1].pretty_print()"
   ]
  },
  {
   "cell_type": "markdown",
   "id": "846a0ad3",
   "metadata": {},
   "source": [
    "从这里可以看出，大模型是记住你的名字了。但是如果你将`config`中的`thread_id`修改为其它值，你发现他又忘记你了。"
   ]
  },
  {
   "cell_type": "code",
   "execution_count": 42,
   "id": "240644aa",
   "metadata": {},
   "outputs": [
    {
     "name": "stdout",
     "output_type": "stream",
     "text": [
      "==================================\u001b[1m Ai Message \u001b[0m==================================\n",
      "\n",
      "不，我不知道你的名字。作为一个AI，我没有记忆能力，无法记住之前对话中的信息，所以每次交流都像是第一次。如果你愿意，可以告诉我你的名字，我会在本次对话中使用它！😊\n"
     ]
    }
   ],
   "source": [
    "config = {'configurable': {'thread_id': 'thread_0002'}}\n",
    "query = \"你知道我的名字吗？\"\n",
    "\n",
    "input_message = [HumanMessage(query)]\n",
    "output = app.invoke({'messages': input_message}, config)\n",
    "output['messages'][-1].pretty_print()"
   ]
  },
  {
   "cell_type": "markdown",
   "id": "762f8a03",
   "metadata": {},
   "source": [
    "其实大模型是没有记忆的，`langgraph`只是在将上下文保存在`thread_id`的内存中，在发送消息的时将历史发送到大模型。\n",
    "\n",
    "你随时可以将`thread_id`修改为之前的，这样对应的上下文就会发送到大模型了。"
   ]
  },
  {
   "cell_type": "code",
   "execution_count": 43,
   "id": "23d2349b",
   "metadata": {},
   "outputs": [
    {
     "name": "stdout",
     "output_type": "stream",
     "text": [
      "==================================\u001b[1m Ai Message \u001b[0m==================================\n",
      "\n",
      "是的，你之前提到过你的名字是 **赵日天**，我会记住这个信息～ 😊  \n",
      "如果你希望我用其他方式称呼你（比如昵称或英文名），随时告诉我哦！✨\n"
     ]
    }
   ],
   "source": [
    "config = {'configurable': {'thread_id': 'thread_0001'}}\n",
    "query = \"你知道我的名字吗？\"\n",
    "\n",
    "input_message = [HumanMessage(query)]\n",
    "output = app.invoke({'messages': input_message}, config)\n",
    "output['messages'][-1].pretty_print()"
   ]
  },
  {
   "cell_type": "markdown",
   "id": "f9c23967",
   "metadata": {},
   "source": [
    "如果系统提示词中有多个参数，那么对应的状态定义也要进行修改。\n"
   ]
  },
  {
   "cell_type": "code",
   "execution_count": 49,
   "id": "6519914b",
   "metadata": {},
   "outputs": [],
   "source": [
    "prompt_template = ChatPromptTemplate.from_messages(\n",
    "    [\n",
    "        (\n",
    "            \"system\",\n",
    "            \"你是一名优秀的小助手，回答所有的问题使用{language}\",\n",
    "        ),\n",
    "        MessagesPlaceholder(variable_name='messages')\n",
    "    ]\n",
    ")"
   ]
  },
  {
   "cell_type": "code",
   "execution_count": 50,
   "id": "ad4363be",
   "metadata": {},
   "outputs": [],
   "source": [
    "from langchain_core.messages import BaseMessage\n",
    "from langgraph.graph.message import add_messages\n",
    "from typing import Sequence\n",
    "from typing_extensions import Annotated, TypedDict\n",
    "\n",
    "class State(TypedDict):\n",
    "    messages: Annotated[Sequence[BaseMessage], add_messages]\n",
    "    language: str\n",
    "\n",
    "workflow = StateGraph(state_schema=State)\n",
    "\n",
    "async def call_model(state: State):\n",
    "    prompt = prompt_template.invoke(state)\n",
    "    response = await model.ainvoke(prompt)\n",
    "    return {\"messages\": [response]}\n",
    "\n",
    "\n",
    "workflow.add_edge(START, \"model\")\n",
    "workflow.add_node(\"model\", call_model)\n",
    "app = workflow.compile(checkpointer=MemorySaver())\n"
   ]
  },
  {
   "cell_type": "code",
   "execution_count": 51,
   "id": "0eb6c3ba",
   "metadata": {},
   "outputs": [
    {
     "name": "stdout",
     "output_type": "stream",
     "text": [
      "==================================\u001b[1m Ai Message \u001b[0m==================================\n",
      "\n",
      "Hello, Zhang San! Nice to meet you. How can I assist you today?\n"
     ]
    }
   ],
   "source": [
    "config = {'configurable': {'thread_id': 'thread_1001'}}\n",
    "\n",
    "query = \"你好，我是张三\"\n",
    "language = \"英语\"\n",
    "\n",
    "input_message = [HumanMessage(query)]\n",
    "output = await app.ainvoke(\n",
    "    {\"messages\": input_message, \"language\": language},\n",
    "    config,\n",
    ")\n",
    "output['messages'][-1].pretty_print()"
   ]
  },
  {
   "cell_type": "code",
   "execution_count": 52,
   "id": "8c757521",
   "metadata": {},
   "outputs": [
    {
     "name": "stdout",
     "output_type": "stream",
     "text": [
      "==================================\u001b[1m Ai Message \u001b[0m==================================\n",
      "\n",
      "Of course. When traveling from Germany to the UK, the \"best\" value depends on your specific priorities: absolute lowest cost, a balance of time and money, or convenience.\n",
      "\n",
      "Here’s a breakdown of the most cost-effective options, from cheapest to best all-around value.\n",
      "\n",
      "### 1. The Absolute Cheapest: Bus (Coach)\n",
      "\n",
      "This is almost always the winner for the lowest upfront cost.\n",
      "\n",
      "*   **Primary Operator:** FlixBus.\n",
      "*   **Typical Route:** For example, Berlin to London or Frankfurt to London.\n",
      "*   **Approximate Cost:** €30 - €60 one-way if booked well in advance.\n",
      "*   **Travel Time:** Very long, usually **16 to 24 hours**. This includes the cross-channel ferry crossing.\n",
      "*   **Pros:**\n",
      "    *   Extremely cheap.\n",
      "    *   Direct service from city center to city center.\n",
      "*   **Cons:**\n",
      "    *   Very long and can be uncomfortable for a full day's journey.\n",
      "    *   Limited legroom and amenities.\n",
      "*   **Best for:** Solo travelers on an ultra-tight budget who are not pressed for time.\n",
      "\n",
      "### 2. The Best Balance: Train + Ferry (or Eurotunnel)\n",
      "\n",
      "This isn't usually a single ticket but a journey you piece together. It can be cheap but requires more planning.\n",
      "\n",
      "*   **How it works:** You take a train to a northern French or Belgian port city (like Calais or Dunkirk), then a ferry to the UK (Dover or Folkestone), and then another train to your final destination (e.g., London).\n",
      "*   **Approximate Cost:** Varies greatly. Can be as low as €50-€80 if you book train segments with advance fares and find a cheap ferry crossing.\n",
      "*   **Travel Time:** 10+ hours, depending on connections.\n",
      "*   **Pros:**\n",
      "    *   A more scenic and adventurous experience.\n",
      "    *   You can break up the journey.\n",
      "*   **Cons:**\n",
      "    *   Logistically complex with multiple bookings and transfers.\n",
      "    *   Not necessarily faster or cheaper than other options.\n",
      "*   **Best for:** Travelers who enjoy the journey itself and want to avoid flying.\n",
      "\n",
      "### 3. The Most Popular & Best All-Around Value: Flight\n",
      "\n",
      "For most people, flying offers the best compromise of cost, speed, and convenience.\n",
      "\n",
      "*   **Primary Operators:** Budget airlines like **Ryanair, easyJet, Eurowings**. Major carriers like Lufthansa and British Airways also operate routes but are often more expensive.\n",
      "*   **Common Routes:** Dozens of airports in Germany (Berlin, Frankfurt, Munich, Cologne, Düsseldorf, Hamburg, etc.) fly to many UK airports (London Stansted, Luton, Gatwick, Heathrow, as well as Manchester, Edinburgh, Birmingham).\n",
      "*   **Approximate Cost:** **€30 - €100** one-way for budget carriers if booked a few weeks in advance. Prices spike dramatically last-minute.\n",
      "*   **Travel Time:** 1.5 - 2 hours flight time, but you must add time for airport transfers, security, and boarding (add 3-4 hours total travel time).\n",
      "*   **Pros:**\n",
      "    *   Very fast for the actual distance.\n",
      "    *   Huge number of route options and frequencies.\n",
      "*   **Cons:**\n",
      "    *   Airport procedures can be time-consuming.\n",
      "    *   baggage fees on budget airlines can quickly increase the total cost.\n",
      "    *   Environmental impact is higher.\n",
      "*   **Best for:** Almost everyone. It's the standard for a reason—it's efficient and competitively priced.\n",
      "\n",
      "### 4. The Most Convenient (but Rarely the Cheapest): Train (Eurostar)\n",
      "\n",
      "This is the most comfortable and city-center to city-center option, but it has a geographic limitation.\n",
      "\n",
      "*   **How it works:** You take a train to Brussels (Belgium) or Paris (France) and then transfer to the **Eurostar**,\n",
      "which goes through the Channel Tunnel directly to London St. Pancras station.\n",
      "*   **Approximate Cost:** **€100 - €250+** for the through-fare from a German city to London. The Eurostar leg alone is often expensive unless booked far in advance.\n",
      "*   **Travel Time:** Around 7-9 hours total (e.g., Frankfurt to London).\n",
      "*   **Pros:**\n",
      "    *   Extremely comfortable and scenic.\n",
      "    *   No airport hassle; you arrive in the heart of London.\n",
      "    *   Minimal carbon footprint compared to flying.\n",
      "*   **Cons:**\n",
      "    *   By far the most expensive option on average.\n",
      "    *   Requires a change of trains in Brussels or Paris.\n",
      "*   **Best for:** Travelers who dislike flying, want maximum comfort, and have a higher budget.\n",
      "\n",
      "---\n",
      "\n",
      "### **Summary & Recommendation**\n",
      "\n",
      "*   **For the lowest cost:** Take the **bus (FlixBus)**. Be prepared for a very long trip.\n",
      "*   **For the best value (time vs. money):** **Fly with a budget airline** (Ryanair, easyJet). This is what most people choose. Just book in advance and be mindful of baggage fees.\n",
      "*   **For a unique experience:** Consider the **train+ferry** route for an adventure.\n",
      "*   **For comfort and convenience:** Choose the **train via Eurostar**, if it fits your budget.\n",
      "\n",
      "**Pro Tip:** Always use comparison tools like **Google Flights** (for airlines), **Omio** or **Trainline** (for trains and buses), and the direct websites of operators like **FlixBus** and **Eurostar** to find the best deals for your specific travel dates. Prices can fluctuate significantly.\n"
     ]
    }
   ],
   "source": [
    "query = \"请问从德国去英国什么交通性价比最高\"\n",
    "\n",
    "input_message = [HumanMessage(query)]\n",
    "output = await app.ainvoke(\n",
    "    {\"messages\": input_message},\n",
    "    config,\n",
    ")\n",
    "output['messages'][-1].pretty_print()"
   ]
  },
  {
   "cell_type": "markdown",
   "id": "c49580d6",
   "metadata": {},
   "source": [
    "## 会话管理\n",
    "\n",
    "从上可以看到，由于每次发送消息都需要带历史上下文记录，消耗的`token`数是比较大的，并且可能导致上下文窗口溢出。\n",
    "\n",
    "`langchain`内置多种管理消息列表的方法，如`trim_messages`可以指定保留标记数目及策略等。"
   ]
  },
  {
   "cell_type": "code",
   "execution_count": 65,
   "id": "640f045b",
   "metadata": {},
   "outputs": [
    {
     "data": {
      "text/plain": [
       "[SystemMessage(content='你是一名优秀的助理', additional_kwargs={}, response_metadata={}),\n",
       " HumanMessage(content='4+5*2等于几？', additional_kwargs={}, response_metadata={}),\n",
       " AIMessage(content='根据数学中的运算优先级，先计算乘法，再计算加法。首先计算5×2=10，然后计算4+10=14。所以，4+5×2的结果是14。', additional_kwargs={}, response_metadata={})]"
      ]
     },
     "execution_count": 65,
     "metadata": {},
     "output_type": "execute_result"
    }
   ],
   "source": [
    "from langchain_core.messages import trim_messages\n",
    "from langchain_community.chat_models import ChatZhipuAI\n",
    "\n",
    "# 因为 deepseek 报错 NotImplementedError: get_num_tokens_from_messages()，这里将模型修改为智谱\n",
    "zhipu_model = ChatZhipuAI(\n",
    "    model=os.environ.get('ZHIPUAI_MODEL_NAME'),\n",
    "    temperature=0,\n",
    ")\n",
    "\n",
    "trimer = trim_messages(\n",
    "    max_tokens=150,\n",
    "    strategy='last',\n",
    "    token_counter=zhipu_model,\n",
    "    include_system=True,\n",
    "    allow_partial=False,\n",
    "    start_on=\"human\",\n",
    ")\n",
    "\n",
    "messages = [\n",
    "    SystemMessage(content='你是一名优秀的助理'),\n",
    "    HumanMessage(\"你好，我的张三\"),\n",
    "    AIMessage(\"\"\"你好呀！我是DeepSeek-V3，你可以叫我 DeepSeek 或 小深～ 😊 我是你的智能助手，专门为你提供各种知识解答、聊天陪伴和实用帮助！\"\"\"),\n",
    "    HumanMessage('我喜欢吃冰激凌，你喜欢吗？'),\n",
    "    AIMessage(\"\"\"虽然我没办法像人类一样品尝食物，但冰激凌确实是很多人钟爱的美味呢！冰凉绵密的口感，搭配各种香甜的口味，比如浓郁的巧克力、清新的草莓、醇厚的香草，想想都觉得很惬意～ 尤其是在炎热的天气里，一口冰激凌带来的清爽感，真的很让人满足呀！你最喜欢哪种口味的冰激凌呢？\"\"\"),\n",
    "    HumanMessage('4+5*2等于几？'),\n",
    "    AIMessage(\"\"\"根据数学中的运算优先级，先计算乘法，再计算加法。首先计算5×2=10，然后计算4+10=14。所以，4+5×2的结果是14。\"\"\")\n",
    "]\n",
    "\n",
    "trimer.invoke(messages)"
   ]
  },
  {
   "cell_type": "markdown",
   "id": "99a839a3",
   "metadata": {},
   "source": [
    "这样只需要在`call_model`函数的最前面加上`trimer.invoke`将消息进行裁剪即可。\n",
    "\n",
    "另外一种方式是合并相同类型的消息，因为我们这里是一问一答，所以看起来没任何用处。"
   ]
  },
  {
   "cell_type": "code",
   "execution_count": 66,
   "id": "24091872",
   "metadata": {},
   "outputs": [
    {
     "data": {
      "text/plain": [
       "[SystemMessage(content='你是一名优秀的助理', additional_kwargs={}, response_metadata={}),\n",
       " HumanMessage(content='你好，我的张三', additional_kwargs={}, response_metadata={}),\n",
       " AIMessage(content='你好呀！我是DeepSeek-V3，你可以叫我 DeepSeek 或 小深～ 😊 我是你的智能助手，专门为你提供各种知识解答、聊天陪伴和实用帮助！', additional_kwargs={}, response_metadata={}),\n",
       " HumanMessage(content='我喜欢吃冰激凌，你喜欢吗？', additional_kwargs={}, response_metadata={}),\n",
       " AIMessage(content='虽然我没办法像人类一样品尝食物，但冰激凌确实是很多人钟爱的美味呢！冰凉绵密的口感，搭配各种香甜的口味，比如浓郁的巧克力、清新的草莓、醇厚的香草，想想都觉得很惬意～ 尤其是在炎热的天气里，一口冰激凌带来的清爽感，真的很让人满足呀！你最喜欢哪种口味的冰激凌呢？', additional_kwargs={}, response_metadata={}),\n",
       " HumanMessage(content='4+5*2等于几？', additional_kwargs={}, response_metadata={}),\n",
       " AIMessage(content='根据数学中的运算优先级，先计算乘法，再计算加法。首先计算5×2=10，然后计算4+10=14。所以，4+5×2的结果是14。', additional_kwargs={}, response_metadata={})]"
      ]
     },
     "execution_count": 66,
     "metadata": {},
     "output_type": "execute_result"
    }
   ],
   "source": [
    "from langchain_core.messages import merge_message_runs\n",
    "\n",
    "merged_message = merge_message_runs(messages)\n",
    "merged_message"
   ]
  },
  {
   "cell_type": "markdown",
   "id": "5430bc2b",
   "metadata": {},
   "source": [
    "所以，最好的办法是让上述的对话精简一下保存起来。"
   ]
  },
  {
   "cell_type": "code",
   "execution_count": 74,
   "id": "2733ec94",
   "metadata": {},
   "outputs": [
    {
     "name": "stdout",
     "output_type": "stream",
     "text": [
      "\n",
      "\n",
      "\u001b[1m> Entering new ConversationChain chain...\u001b[0m\n",
      "Prompt after formatting:\n",
      "\u001b[32;1m\u001b[1;3mThe following is a friendly conversation between a human and an AI. The AI is talkative and provides lots of specific details from its context. If the AI does not know the answer to a question, it truthfully says it does not know.\n",
      "\n",
      "Current conversation:\n",
      "\n",
      "Human: 我叫小明，喜欢打篮球，最近在学Python\n",
      "AI:\u001b[0m\n",
      "\n",
      "\u001b[1m> Finished chain.\u001b[0m\n",
      "{'input': '我叫小明，喜欢打篮球，最近在学Python', 'history': '', 'response': '你好，小明！听起来你很忙呢，既喜欢打篮球，又在学习Python编程。篮球是一项非常有益的运动，它不仅能锻炼身体，还能提高团队合作能力。至于Python，它是一种非常流行且功能强大的编程语言，非常适合初学者入门，因为它语法简洁，易于学习。\\n\\n你学Python是为了什么目的呢？是为了开发应用程序、数据分析，还是仅仅为了个人兴趣？Python在数据科学、机器学习、网络开发等领域都有广泛的应用。如果你在学习过程中遇到了什么具体的问题，或者想要了解Python的某个特定方面，随时可以问我哦！'}\n",
      "\n",
      "\n",
      "\u001b[1m> Entering new ConversationChain chain...\u001b[0m\n",
      "Prompt after formatting:\n",
      "\u001b[32;1m\u001b[1;3mThe following is a friendly conversation between a human and an AI. The AI is talkative and provides lots of specific details from its context. If the AI does not know the answer to a question, it truthfully says it does not know.\n",
      "\n",
      "Current conversation:\n",
      "The human introduces themselves as Xiao Ming, a basketball enthusiast who is also learning Python. The AI acknowledges Xiao Ming's busy lifestyle and the benefits of both basketball and Python. The AI inquires about Xiao Ming's purpose for learning Python and mentions its applications in various fields, offering assistance with any specific questions or topics.\n",
      "Human: 我想知道如何用Python处理Excel表格\n",
      "AI:\u001b[0m\n",
      "\n",
      "\u001b[1m> Finished chain.\u001b[0m\n",
      "{'input': '我想知道如何用Python处理Excel表格', 'history': \"The human introduces themselves as Xiao Ming, a basketball enthusiast who is also learning Python. The AI acknowledges Xiao Ming's busy lifestyle and the benefits of both basketball and Python. The AI inquires about Xiao Ming's purpose for learning Python and mentions its applications in various fields, offering assistance with any specific questions or topics.\", 'response': \"当然可以，Xiao Ming。在Python中处理Excel表格通常使用`pandas`库，这是一个非常强大的数据分析工具。以下是一些基本的步骤和概念：\\n\\n1. **安装pandas库**：如果你还没有安装pandas，可以使用pip命令进行安装：\\n   ```bash\\n   pip install pandas\\n   ```\\n\\n2. **读取Excel文件**：使用`pandas`的`read_excel`函数可以轻松地读取Excel文件。例如：\\n   ```python\\n   import pandas as pd\\n   df = pd.read_excel('your_file.xlsx')\\n   ```\\n   这里的`your_file.xlsx`是你想要读取的Excel文件名。\\n\\n3. **查看数据**：读取数据后，你可以使用`df.head()`来查看前几行数据，或者`df.info()`来获取数据的基本信息。\\n\\n4. **数据清洗**：Excel文件可能包含缺失值、重复值或格式错误。你可以使用`df.dropna()`来删除缺失值，`df.duplicated()`来删除重复值，或者使用`df.fillna()`来填充缺失值。\\n\\n5. **数据筛选**：你可以使用布尔索引来筛选数据。例如，如果你想筛选出某个列值大于某个特定值的行，可以使用：\\n   ```python\\n   df[df['column_name'] > value]\\n   ```\\n\\n6. **数据排序**：使用`df.sort_values(by='column_name', ascending=True)`可以对数据进行排序。\\n\\n7. **数据分组**：如果你需要对数据进行分组，可以使用`df.groupby('column_name').sum()`来计算每个组的总和。\\n\\n8. **数据合并**：如果你有多个Excel文件，可以使用`pd.concat()`来合并它们。\\n\\n9. **数据导出**：处理完数据后，你可以使用`df.to_excel('output_file.xlsx', index=False)`将数据导出到新的Excel文件。\\n\\n这只是`pandas`库在处理Excel文件时的一些基本功能。`pandas`库非常强大，有很多高级功能可以探索。如果你有具体的问题或需要更详细的指导，随时告诉我！\"}\n",
      "\n",
      "\n",
      "\u001b[1m> Entering new ConversationChain chain...\u001b[0m\n",
      "Prompt after formatting:\n",
      "\u001b[32;1m\u001b[1;3mThe following is a friendly conversation between a human and an AI. The AI is talkative and provides lots of specific details from its context. If the AI does not know the answer to a question, it truthfully says it does not know.\n",
      "\n",
      "Current conversation:\n",
      "The human, Xiao Ming, a basketball enthusiast learning Python, inquires about using Python to handle Excel spreadsheets. The AI explains that `pandas` is a powerful tool for this purpose and outlines the basic steps for installing the library, reading files, data viewing, cleaning, filtering, sorting, grouping, merging, and exporting data. The AI also mentions the versatility of `pandas` and offers assistance for any specific questions or further guidance.\n",
      "\n",
      "New summary:\n",
      "Xiao Ming, a basketball enthusiast and Python learner, asks the AI for guidance on using Python to manage Excel files. The AI responds by detailing the process of using the `pandas` library, covering installation, data handling, and various operations like cleaning, filtering, sorting, grouping, merging, and exporting. The AI emphasizes the library's power and offers to help with any further questions or detailed instructions.\n",
      "Human: 除了pandas，还有其他库可以用吗？\n",
      "AI:\u001b[0m\n",
      "\n",
      "\u001b[1m> Finished chain.\u001b[0m\n",
      "{'input': '除了pandas，还有其他库可以用吗？', 'history': \"The human, Xiao Ming, a basketball enthusiast learning Python, inquires about using Python to handle Excel spreadsheets. The AI explains that `pandas` is a powerful tool for this purpose and outlines the basic steps for installing the library, reading files, data viewing, cleaning, filtering, sorting, grouping, merging, and exporting data. The AI also mentions the versatility of `pandas` and offers assistance for any specific questions or further guidance.\\n\\nNew summary:\\nXiao Ming, a basketball enthusiast and Python learner, asks the AI for guidance on using Python to manage Excel files. The AI responds by detailing the process of using the `pandas` library, covering installation, data handling, and various operations like cleaning, filtering, sorting, grouping, merging, and exporting. The AI emphasizes the library's power and offers to help with any further questions or detailed instructions.\", 'response': '当然有，除了`pandas`之外，还有几个库可以用来处理Excel文件：\\n\\n1. **openpyxl**：这是一个专门用于读写Excel 2010 xlsx/xlsm/xltx/xltm文件的库。它提供了对Excel文件的高级操作，如读取、写入、修改单元格数据等。\\n\\n2. **xlrd**：这个库用于读取Excel 97-2003文件（即.xls文件）。它提供了读取单元格数据、格式、图表等功能。\\n\\n3. **xlwt**：用于写入Excel 97-2003文件（.xls）。如果你需要创建新的Excel文件或修改现有文件，这个库可能很有用。\\n\\n4. **xlsxwriter**：这是一个用于写入Excel 2007+（.xlsx）文件的库。它提供了丰富的格式化选项，并且可以创建图表。\\n\\n5. **xlutils**：这是一个辅助库，可以用来复制和修改Excel文件。\\n\\n每个库都有其特定的用途和优势，你可以根据你的具体需求选择合适的库。如果你有特定的需求或者想要了解某个库的更多细节，我可以为你提供更详细的信息。'}\n",
      "精简后的对话历史：\n",
      "Xiao Ming, a basketball enthusiast and Python learner, seeks the AI's advice on using Python for Excel file management. The AI recommends the `pandas` library for its versatility and outlines its features, including installation, data handling, and operations like cleaning, filtering, sorting, grouping, merging, and exporting. The AI also suggests alternative libraries such as `openpyxl`, `xlrd`, `xlwt`, `xlsxwriter`, and `xlutils`, each with specific uses and advantages, and offers to provide more detailed information on request.\n"
     ]
    }
   ],
   "source": [
    "from langchain.memory import ConversationSummaryMemory\n",
    "from langchain.chains import ConversationChain\n",
    "\n",
    "\n",
    "memory = ConversationSummaryMemory(llm=zhipu_model)\n",
    "\n",
    "conversation = ConversationChain(\n",
    "    llm=zhipu_model,\n",
    "    memory=memory,\n",
    "    verbose=True  # 打印中间过程（可选）\n",
    ")\n",
    "\n",
    "# 模拟多轮对话\n",
    "response = conversation.invoke(\"我叫小明，喜欢打篮球，最近在学Python\")\n",
    "print(response)\n",
    "response = conversation.invoke(\"我想知道如何用Python处理Excel表格\")\n",
    "print(response)\n",
    "response = conversation.invoke(\"除了pandas，还有其他库可以用吗？\")\n",
    "print(response)\n",
    "\n",
    "# 查看精简后的历史总结\n",
    "print(\"精简后的对话历史：\")\n",
    "print(memory.load_memory_variables({})[\"history\"])"
   ]
  },
  {
   "cell_type": "markdown",
   "id": "ad7b6b01",
   "metadata": {},
   "source": [
    "基础知识到这里就已经完结了。"
   ]
  },
  {
   "cell_type": "markdown",
   "id": "b9b89edd",
   "metadata": {},
   "source": []
  }
 ],
 "metadata": {
  "kernelspec": {
   "display_name": "Python 3",
   "language": "python",
   "name": "python3"
  },
  "language_info": {
   "codemirror_mode": {
    "name": "ipython",
    "version": 3
   },
   "file_extension": ".py",
   "mimetype": "text/x-python",
   "name": "python",
   "nbconvert_exporter": "python",
   "pygments_lexer": "ipython3",
   "version": "3.13.3"
  }
 },
 "nbformat": 4,
 "nbformat_minor": 5
}
