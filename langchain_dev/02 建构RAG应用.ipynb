{
 "cells": [
  {
   "cell_type": "markdown",
   "id": "a5f7d771",
   "metadata": {},
   "source": [
    "# 建构`RAG`应用\n",
    "\n",
    "在之前的[RAG快速入门](../doc/RAG快速入门.md)"
   ]
  }
 ],
 "metadata": {
  "language_info": {
   "name": "python"
  }
 },
 "nbformat": 4,
 "nbformat_minor": 5
}
